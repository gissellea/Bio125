{
  "metadata": {
    "language_info": {
      "codemirror_mode": "sql",
      "file_extension": "",
      "mimetype": "",
      "name": "sql",
      "version": "3.32.3"
    },
    "kernelspec": {
      "name": "SQLite",
      "display_name": "SQLite",
      "language": "sql"
    }
  },
  "nbformat_minor": 4,
  "nbformat": 4,
  "cells": [
    {
      "cell_type": "raw",
      "source": "                                                                                        Gisselle Aguilera\n                                                                                        Lab #2 \n                                                                                        08/28/23\n                      **Laboratory 2 - Molecular Activity And Membrane Transport**\n                      ",
      "metadata": {}
    },
    {
      "cell_type": "markdown",
      "source": "**Purpose**",
      "metadata": {}
    },
    {
      "cell_type": "raw",
      "source": "The purpose of lab 2 is how osmosis the movement of water goes through water a semi permeable membrane from higher to lower water concentration. ",
      "metadata": {}
    },
    {
      "cell_type": "markdown",
      "source": "**Procedures**",
      "metadata": {}
    },
    {
      "cell_type": "raw",
      "source": "I did experiment 2-F meaursing osmosis. This experiment had me fill two small bags of surcose solution one of 25% surcose and the other 50% surcose. Next you separate the two bags into distal water for 10 mins bags must be tightly sealed. after the 10 minutes, I pat them dry and weighed them. continued these steps five times.",
      "metadata": {}
    },
    {
      "cell_type": "markdown",
      "source": "**Results**",
      "metadata": {}
    },
    {
      "cell_type": "raw",
      "source": "For the 25% surcose the first 10 mintues it weight 23.47g throughtout the next 5 times it increased. For the 50% surcose the first 10 minutes weight 21.33g the next 5 times it also increased. Like shown below in the graph ",
      "metadata": {}
    },
    {
      "cell_type": "code",
      "source": "x = ['20 g' , ' 21 g' , ' 22 g ' , '23 g ' , ' 24 g' , ' 25 g ' , '26 g ' , ' 27 g ']\ndom = [ 10,20,30,40,50]\nnondom [ 50%,25%]\n",
      "metadata": {},
      "execution_count": null,
      "outputs": []
    },
    {
      "cell_type": "code",
      "source": "x_axis = np.arange(len(x))\n\nplt.bar(x_axis - 10, dom 20, label = 'dominant hand')\nplt.bar(x_axis + 10, nondom, 20, label = 'Non-Dominant hand')\n\n\nplt.xticks(x_axis, x)\nplt.xlabel(\"Force (g)\")\nplt.ylabel(\"surcose (mins)\")\nplt.title(\"Faster Rate of Osmosis\")\nplt.legend()\nplt.show()\n",
      "metadata": {},
      "execution_count": null,
      "outputs": []
    },
    {
      "cell_type": "markdown",
      "source": "**Discussion**",
      "metadata": {}
    },
    {
      "cell_type": "raw",
      "source": "As the experiment went on every 10 minutes the water levels would rise to the top while the surcose stay in the bottom. noticing the 50% surcose was having more increase of water than the 25% surcose. ",
      "metadata": {}
    },
    {
      "cell_type": "markdown",
      "source": "**Conclusion**",
      "metadata": {}
    },
    {
      "cell_type": "raw",
      "source": "In conclusion I determined the rate of osmosis for each surcose. The one who had the fastest osmotic rate was the 50%\nsurcose, because it had a higher concentration. ",
      "metadata": {}
    }
  ]
}